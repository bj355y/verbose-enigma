{
 "cells": [
  {
   "cell_type": "code",
   "execution_count": 1,
   "id": "d79374b4",
   "metadata": {},
   "outputs": [],
   "source": [
    "import Distance as d"
   ]
  },
  {
   "cell_type": "code",
   "execution_count": 2,
   "id": "c3657178",
   "metadata": {},
   "outputs": [
    {
     "data": {
      "text/plain": [
       "86.904576"
      ]
     },
     "execution_count": 2,
     "metadata": {},
     "output_type": "execute_result"
    }
   ],
   "source": [
    "d.miles_to_kilometers(54)"
   ]
  },
  {
   "cell_type": "code",
   "execution_count": 3,
   "id": "d8b06dda",
   "metadata": {},
   "outputs": [
    {
     "data": {
      "text/plain": [
       "54.0"
      ]
     },
     "execution_count": 3,
     "metadata": {},
     "output_type": "execute_result"
    }
   ],
   "source": [
    "d.kilometers_to_miles(86.904576)"
   ]
  },
  {
   "cell_type": "code",
   "execution_count": 4,
   "id": "91096252",
   "metadata": {},
   "outputs": [],
   "source": [
    "import number as n"
   ]
  },
  {
   "cell_type": "code",
   "execution_count": 5,
   "id": "58cfbcf2",
   "metadata": {},
   "outputs": [
    {
     "data": {
      "text/plain": [
       "True"
      ]
     },
     "execution_count": 5,
     "metadata": {},
     "output_type": "execute_result"
    }
   ],
   "source": [
    "n.even(-2)"
   ]
  },
  {
   "cell_type": "code",
   "execution_count": 6,
   "id": "64c2ddc0",
   "metadata": {},
   "outputs": [
    {
     "data": {
      "text/plain": [
       "False"
      ]
     },
     "execution_count": 6,
     "metadata": {},
     "output_type": "execute_result"
    }
   ],
   "source": [
    "n.odd(-2)"
   ]
  },
  {
   "cell_type": "code",
   "execution_count": 7,
   "id": "9cff7e7b",
   "metadata": {},
   "outputs": [
    {
     "data": {
      "text/plain": [
       "False"
      ]
     },
     "execution_count": 7,
     "metadata": {},
     "output_type": "execute_result"
    }
   ],
   "source": [
    "n.positive(-2)"
   ]
  },
  {
   "cell_type": "code",
   "execution_count": 8,
   "id": "b653c2c2",
   "metadata": {},
   "outputs": [
    {
     "data": {
      "text/plain": [
       "True"
      ]
     },
     "execution_count": 8,
     "metadata": {},
     "output_type": "execute_result"
    }
   ],
   "source": [
    "n.negative(-2)"
   ]
  }
 ],
 "metadata": {
  "kernelspec": {
   "display_name": "Python 3 (ipykernel)",
   "language": "python",
   "name": "python3"
  },
  "language_info": {
   "codemirror_mode": {
    "name": "ipython",
    "version": 3
   },
   "file_extension": ".py",
   "mimetype": "text/x-python",
   "name": "python",
   "nbconvert_exporter": "python",
   "pygments_lexer": "ipython3",
   "version": "3.9.12"
  }
 },
 "nbformat": 4,
 "nbformat_minor": 5
}
